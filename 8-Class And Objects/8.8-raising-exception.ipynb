{
 "cells": [
  {
   "cell_type": "code",
   "execution_count": null,
   "id": "654e32cb",
   "metadata": {},
   "outputs": [],
   "source": [
    "class Error(Exception) :\n",
    "    pass\n",
    "\n",
    "class dobException(Error):\n",
    "    pass"
   ]
  },
  {
   "cell_type": "code",
   "execution_count": null,
   "id": "2a27207c",
   "metadata": {},
   "outputs": [],
   "source": [
    "year=int(input(\"what is your age ?\"))\n",
    "age=2025-year\n",
    "try:\n",
    "    if age<=30 and age>=20 :\n",
    "        print(\"the age is valid\")\n",
    "\n",
    "    else :\n",
    "        raise dobException \n",
    "\n",
    "except dobException :\n",
    "    print(\"Sorry your age should be greater than 20 or less than 30\")       "
   ]
  },
  {
   "cell_type": "code",
   "execution_count": null,
   "id": "d1040aa9",
   "metadata": {},
   "outputs": [],
   "source": []
  }
 ],
 "metadata": {
  "kernelspec": {
   "display_name": "Python 3",
   "language": "python",
   "name": "python3"
  },
  "language_info": {
   "codemirror_mode": {
    "name": "ipython",
    "version": 3
   },
   "file_extension": ".py",
   "mimetype": "text/x-python",
   "name": "python",
   "nbconvert_exporter": "python",
   "pygments_lexer": "ipython3",
   "version": "3.10.18"
  }
 },
 "nbformat": 4,
 "nbformat_minor": 5
}
